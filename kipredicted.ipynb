{
 "cells": [
  {
   "cell_type": "code",
   "execution_count": 18,
   "id": "4e13748c-9240-43e6-a84a-50dec2b43360",
   "metadata": {},
   "outputs": [
    {
     "name": "stdout",
     "output_type": "stream",
     "text": [
      "Ki estimado: 9.55e-06 M (9.55 µM)\n"
     ]
    }
   ],
   "source": [
    "import math\n",
    "\n",
    "def calculate_ki(dG_kcal):\n",
    "    R = 1.987  # cal/mol·K\n",
    "    T = 300    # K\n",
    "    dG_cal = dG_kcal * 1000\n",
    "    ki = math.exp(dG_cal / (R * T))\n",
    "    return ki\n",
    "\n",
    "dG = -6.89  # kcal/mol, valor do Vina\n",
    "ki_M = calculate_ki(dG)\n",
    "print(f\"Ki estimado: {ki_M:.2e} M ({ki_M*1e6:.2f} µM)\")\n"
   ]
  },
  {
   "cell_type": "code",
   "execution_count": null,
   "id": "b5c15be9-37a0-493b-a8e7-cb1edfac66cf",
   "metadata": {},
   "outputs": [],
   "source": [
    "\n"
   ]
  },
  {
   "cell_type": "code",
   "execution_count": null,
   "id": "7c533ea9-6c26-415e-84ff-51355128e45a",
   "metadata": {},
   "outputs": [],
   "source": []
  }
 ],
 "metadata": {
  "kernelspec": {
   "display_name": "Python 3 (ipykernel)",
   "language": "python",
   "name": "python3"
  },
  "language_info": {
   "codemirror_mode": {
    "name": "ipython",
    "version": 3
   },
   "file_extension": ".py",
   "mimetype": "text/x-python",
   "name": "python",
   "nbconvert_exporter": "python",
   "pygments_lexer": "ipython3",
   "version": "3.10.18"
  }
 },
 "nbformat": 4,
 "nbformat_minor": 5
}
